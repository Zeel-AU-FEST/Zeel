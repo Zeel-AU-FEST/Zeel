{
 "cells": [
  {
   "cell_type": "code",
   "execution_count": 12,
   "id": "005d4551-fe3e-436a-af36-b82aa7d0d477",
   "metadata": {},
   "outputs": [
    {
     "name": "stdout",
     "output_type": "stream",
     "text": [
      "R² Score: 0.9773821738560391\n",
      "Mean Squared Error: 1.1755806231340957\n",
      "Compressed Random Forest Model Size: 0.23 MB\n",
      "Compressed Scaler Size: 0.00 MB\n",
      "Files are within the size limit for GitHub and Render deployment.\n"
     ]
    }
   ],
   "source": [
    "import pandas as pd\n",
    "from sklearn.model_selection import train_test_split\n",
    "from sklearn.preprocessing import StandardScaler\n",
    "from sklearn.ensemble import RandomForestRegressor\n",
    "from sklearn.metrics import mean_squared_error, r2_score\n",
    "import pickle\n",
    "import gzip\n",
    "import os\n",
    "\n",
    "# Load the dataset\n",
    "data = pd.read_csv(\"out.csv\")\n",
    "\n",
    "# Select relevant features and the target variable\n",
    "selected_features = ['age', 'income', 'number_transactions', 'loan_accounts', 'months_customer']\n",
    "X = data[selected_features]  # Features\n",
    "y = data['rfm_score']  # Target variable\n",
    "\n",
    "# Split data into train and test sets (80% train, 20% test)\n",
    "X_train, X_test, y_train, y_test = train_test_split(X, y, test_size=0.2, random_state=42)\n",
    "\n",
    "# Standardize the features\n",
    "scaler = StandardScaler()\n",
    "X_train_scaled = scaler.fit_transform(X_train)\n",
    "X_test_scaled = scaler.transform(X_test)\n",
    "\n",
    "# Initialize and train Random Forest Regressor\n",
    "rf = RandomForestRegressor(\n",
    "    n_estimators=30,          # Reduced number of trees\n",
    "    max_depth=10,             # Limit tree depth\n",
    "    min_samples_split=5,      # Minimum samples to split a node\n",
    "    min_samples_leaf=3,       # Minimum samples per leaf node\n",
    "    random_state=42\n",
    ")\n",
    "rf.fit(X_train_scaled, y_train)\n",
    "\n",
    "# Evaluate model on the test set\n",
    "y_pred = rf.predict(X_test_scaled)\n",
    "print(\"R² Score:\", r2_score(y_test, y_pred))\n",
    "print(\"Mean Squared Error:\", mean_squared_error(y_test, y_pred))\n",
    "\n",
    "# Save the model and scaler using pickle with gzip compression\n",
    "with gzip.open('random_forest_model.pkl.gz', 'wb') as f:\n",
    "    pickle.dump(rf, f)\n",
    "\n",
    "with gzip.open('scaler.pkl.gz', 'wb') as f:\n",
    "    pickle.dump(scaler, f)\n",
    "\n",
    "# Check file sizes\n",
    "rf_size = os.path.getsize('random_forest_model.pkl.gz') / (1024 * 1024)  # Convert bytes to MB\n",
    "scaler_size = os.path.getsize('scaler.pkl.gz') / (1024 * 1024)  # Convert bytes to MB\n",
    "print(f\"Compressed Random Forest Model Size: {rf_size:.2f} MB\")\n",
    "print(f\"Compressed Scaler Size: {scaler_size:.2f} MB\")\n",
    "\n",
    "# Ensure file sizes are within limit\n",
    "if rf_size > 25 or scaler_size > 25:\n",
    "    print(\"Warning: One or more files exceed 25 MB. Consider further optimizations.\")\n",
    "else:\n",
    "    print(\"Files are within the size limit for GitHub and Render deployment.\")\n"
   ]
  }
 ],
 "metadata": {
  "kernelspec": {
   "display_name": "Python 3",
   "language": "python",
   "name": "python3"
  },
  "language_info": {
   "codemirror_mode": {
    "name": "ipython",
    "version": 3
   },
   "file_extension": ".py",
   "mimetype": "text/x-python",
   "name": "python",
   "nbconvert_exporter": "python",
   "pygments_lexer": "ipython3",
   "version": "3.12.4"
  }
 },
 "nbformat": 4,
 "nbformat_minor": 5
}
